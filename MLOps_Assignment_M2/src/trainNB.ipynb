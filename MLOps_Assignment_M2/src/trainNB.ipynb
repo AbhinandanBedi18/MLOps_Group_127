{
  "cells": [
    {
      "cell_type": "code",
      "execution_count": null,
      "id": "c5103dd3",
      "metadata": {
        "vscode": {
          "languageId": "plaintext"
        }
      },
      "outputs": [],
      "source": [
        "from sklearn.datasets import load_iris  # type: ignore\n",
        "from sklearn.model_selection import train_test_split  # type: ignore\n",
        "from sklearn.tree import DecisionTreeClassifier  # type: ignore\n",
        "from sklearn.metrics import (  # type: ignore\n",
        "    accuracy_score,\n",
        "    precision_score,\n",
        "    recall_score,\n",
        "    f1_score,\n",
        "    confusion_matrix,\n",
        ")\n",
        "import joblib  # type: ignore\n",
        "import mlflow  # type: ignore\n",
        "import mlflow.sklearn  # type: ignore\n",
        "\n",
        "\n",
        "def train_model(model_path):\n",
        "    \"\"\"\n",
        "    Train a Decision Tree Classifier on the Iris dataset and save the model.\n",
        "    Log metrics, parameters, and the model using MLflow.\n",
        "    \"\"\"\n",
        "    # Load the Iris dataset\n",
        "    iris = load_iris()\n",
        "    X, y = iris.data, iris.target\n",
        "\n",
        "    # Split the data into training and testing sets\n",
        "    X_train, X_test, y_train, y_test = train_test_split(\n",
        "        X, y, test_size=0.2, random_state=48\n",
        "    )\n",
        "\n",
        "    # Start an MLflow run\n",
        "    with mlflow.start_run():\n",
        "        # Log a custom tag for the user\n",
        "        mlflow.set_tag(\"user\", \"Abhi\")\n",
        "        # Log parameters\n",
        "        mlflow.log_param(\"test_size\", 0.2)\n",
        "        mlflow.log_param(\"random_state\", 48)\n",
        "        mlflow.log_param(\"model_type\", \"DecisionTreeClassifier\")\n",
        "\n",
        "        # Train a Decision Tree Classifier\n",
        "        model = DecisionTreeClassifier(max_depth=4, random_state=48)\n",
        "        model.fit(X_train, y_train)\n",
        "\n",
        "        # Evaluate the model\n",
        "        y_pred = model.predict(X_test)\n",
        "\n",
        "        # Calculate metrics\n",
        "        accuracy = accuracy_score(y_test, y_pred)\n",
        "        precision = precision_score(y_test, y_pred, average=\"weighted\")\n",
        "        recall = recall_score(y_test, y_pred, average=\"weighted\")\n",
        "        f1 = f1_score(y_test, y_pred, average=\"weighted\")\n",
        "        conf_matrix = confusion_matrix(y_test, y_pred)\n",
        "\n",
        "        # Log metrics\n",
        "        mlflow.log_metric(\"accuracy\", accuracy)\n",
        "        mlflow.log_metric(\"precision\", precision)\n",
        "        mlflow.log_metric(\"recall\", recall)\n",
        "        mlflow.log_metric(\"f1_score\", f1)\n",
        "\n",
        "        # Print metrics\n",
        "        print(f\"Accuracy: {accuracy:.4f}\")\n",
        "        print(f\"Precision: {precision:.4f}\")\n",
        "        print(f\"Recall: {recall:.4f}\")\n",
        "        print(f\"F1 Score: {f1:.4f}\")\n",
        "        print(\"Confusion Matrix:\")\n",
        "        print(conf_matrix)\n",
        "\n",
        "        # Save the model\n",
        "        joblib.dump(model, model_path)\n",
        "        mlflow.log_artifact(model_path)  # Log the model as an artifact\n",
        "\n",
        "        print(f\"Model saved to {model_path}\")\n",
        "\n",
        "\n",
        "if __name__ == \"__main__\":\n",
        "    train_model(\"iris_model.pkl\")\n"
      ]
    }
  ],
  "metadata": {
    "colab": {
      "provenance": []
    },
    "kernelspec": {
      "display_name": "Python 3 (ipykernel)",
      "language": "python",
      "name": "python3"
    },
    "language_info": {
      "codemirror_mode": {
        "name": "ipython",
        "version": 3
      },
      "file_extension": ".py",
      "mimetype": "text/x-python",
      "name": "python",
      "nbconvert_exporter": "python",
      "pygments_lexer": "ipython3",
      "version": "3.8.10"
    }
  },
  "nbformat": 4,
  "nbformat_minor": 5
}
